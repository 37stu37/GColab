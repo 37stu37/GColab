{
  "nbformat": 4,
  "nbformat_minor": 5,
  "metadata": {
    "kernelspec": {
      "display_name": "Python 3",
      "language": "python",
      "name": "python3"
    },
    "language_info": {
      "name": "python",
      "version": "3.9.2",
      "mimetype": "text/x-python",
      "codemirror_mode": {
        "name": "ipython",
        "version": 3
      },
      "pygments_lexer": "ipython3",
      "nbconvert_exporter": "python",
      "file_extension": ".py"
    },
    "toc": {
      "toc_position": {},
      "skip_h1_title": false,
      "number_sections": true,
      "title_cell": "Table of Contents",
      "toc_window_display": false,
      "base_numbering": 1,
      "toc_section_display": true,
      "title_sidebar": "Contents",
      "toc_cell": false,
      "nav_menu": {},
      "sideBar": true
    },
    "nteract": {
      "version": "0.28.0"
    },
    "colab": {
      "name": "Multihazard network model.ipynb",
      "provenance": [],
      "collapsed_sections": [],
      "include_colab_link": true
    }
  },
  "cells": [
    {
      "cell_type": "markdown",
      "metadata": {
        "id": "view-in-github",
        "colab_type": "text"
      },
      "source": [
        "<a href=\"https://colab.research.google.com/github/37stu37/GColab/blob/main/Multihazard%20network%20model.ipynb\" target=\"_parent\"><img src=\"https://colab.research.google.com/assets/colab-badge.svg\" alt=\"Open In Colab\"/></a>"
      ]
    },
    {
      "cell_type": "markdown",
      "metadata": {
        "id": "DLtP8dfPlADm"
      },
      "source": [
        "# RNC multihazard network framing"
      ],
      "id": "DLtP8dfPlADm"
    },
    {
      "cell_type": "markdown",
      "metadata": {
        "id": "HN_3e579k0pY"
      },
      "source": [
        "## Visualisation of graph requirements"
      ],
      "id": "HN_3e579k0pY"
    },
    {
      "cell_type": "code",
      "metadata": {
        "colab": {
          "base_uri": "https://localhost:8080/"
        },
        "id": "Wgrkz2o5kIUN",
        "outputId": "faa7436c-6de6-4da8-f4eb-0c2ce1ac7a26"
      },
      "source": [
        "!pip install graphviz"
      ],
      "id": "Wgrkz2o5kIUN",
      "execution_count": 1,
      "outputs": [
        {
          "output_type": "stream",
          "text": [
            "Requirement already satisfied: graphviz in /usr/local/lib/python3.7/dist-packages (0.10.1)\n"
          ],
          "name": "stdout"
        }
      ]
    },
    {
      "cell_type": "code",
      "metadata": {
        "id": "vertical-plant"
      },
      "source": [
        "import logging\n",
        "\n",
        "logging.basicConfig(format='[%(levelname)s@%(name)s] %(message)s', level=logging.DEBUG)"
      ],
      "id": "vertical-plant",
      "execution_count": 2,
      "outputs": []
    },
    {
      "cell_type": "code",
      "metadata": {
        "id": "obvious-architect"
      },
      "source": [
        "from graphviz import Digraph\n",
        "\n",
        "dot = Digraph(comment='Multihazard network model')#, node_attr={'color': 'lightblue2', 'style': 'filled'})\n",
        "dot.attr(rankdir='LR', size='10')\n",
        "\n",
        "# node creation\n",
        "dot.attr('node', shape='doublecircle')\n",
        "dot.node('1', 'Volcano')\n",
        "dot.node('2', 'Rainfall')\n",
        "dot.node('3', 'Earthquake')\n",
        "\n",
        "dot.attr('node', shape='circle')\n",
        "dot.node('4', 'Slope Units\\n Catchment areas')\n",
        "dot.node('5', 'River segments')\n",
        "# dot.node('6', 'Landslide(s)')\n",
        "dot.node('7', 'Dam(s)')\n",
        "dot.node('8', 'Infrastructure(s)')\n",
        "\n",
        "# edge creation\n",
        "dot.edge('1', '8', label='Ashfall (cm)')\n",
        "dot.edge('1', '4', label='Ashfall (cm)')\n",
        "dot.edge('2', '4', label='Precipitation (mm/h)')\n",
        "dot.edge('2', '5', label='Intensity (mm/h)')\n",
        "dot.edge('3', '4', label='Intensity (g)')\n",
        "dot.edge('3', '8', label='Intensity (g)')\n",
        "# dot.edge('4', '6', label='Contributing area (m2)')\n",
        "dot.edge('4', '7', label='Volume\\ndebris (m3)')\n",
        "dot.edge('4', '5', label='Sediment\\nrunout (m3)')\n",
        "dot.edge('7', '5', label='Flow (m3/s)')\n",
        "dot.edge('5', '5', label='Sediment\\nload / transfer (?) \\nFlow (m3/s)')\n",
        "dot.edge('5', '7', label='Sediment\\nload / transfer (?) \\nFlow (m3/s)')\n",
        "dot.edge('5', '8', label='Inundation (mm)')\n",
        "dot.edge('4', '8', label='Volume\\ndebris (m3)')"
      ],
      "id": "obvious-architect",
      "execution_count": 16,
      "outputs": []
    },
    {
      "cell_type": "code",
      "metadata": {
        "colab": {
          "base_uri": "https://localhost:8080/",
          "height": 501
        },
        "id": "modern-geography",
        "outputId": "32c14898-e58b-4875-9694-dfdd7fb3e95a"
      },
      "source": [
        "dot"
      ],
      "id": "modern-geography",
      "execution_count": 17,
      "outputs": [
        {
          "output_type": "execute_result",
          "data": {
            "text/plain": [
              "<graphviz.dot.Digraph at 0x7f0be8522250>"
            ],
            "image/svg+xml": "<?xml version=\"1.0\" encoding=\"UTF-8\" standalone=\"no\"?>\n<!DOCTYPE svg PUBLIC \"-//W3C//DTD SVG 1.1//EN\"\n \"http://www.w3.org/Graphics/SVG/1.1/DTD/svg11.dtd\">\n<!-- Generated by graphviz version 2.40.1 (20161225.0304)\n -->\n<!-- Title: %3 Pages: 1 -->\n<svg width=\"720pt\" height=\"360pt\"\n viewBox=\"0.00 0.00 720.00 360.42\" xmlns=\"http://www.w3.org/2000/svg\" xmlns:xlink=\"http://www.w3.org/1999/xlink\">\n<g id=\"graph0\" class=\"graph\" transform=\"scale(.7526 .7526) rotate(0) translate(4 474.8893)\">\n<title>%3</title>\n<polygon fill=\"#ffffff\" stroke=\"transparent\" points=\"-4,4 -4,-474.8893 952.6723,-474.8893 952.6723,4 -4,4\"/>\n<!-- 1 -->\n<g id=\"node1\" class=\"node\">\n<title>1</title>\n<ellipse fill=\"none\" stroke=\"#000000\" cx=\"57.2953\" cy=\"-284.594\" rx=\"41.6844\" ry=\"41.6844\"/>\n<ellipse fill=\"none\" stroke=\"#000000\" cx=\"57.2953\" cy=\"-284.594\" rx=\"45.6928\" ry=\"45.6928\"/>\n<text text-anchor=\"middle\" x=\"57.2953\" y=\"-280.894\" font-family=\"Times,serif\" font-size=\"14.00\" fill=\"#000000\">Volcano</text>\n</g>\n<!-- 4 -->\n<g id=\"node4\" class=\"node\">\n<title>4</title>\n<ellipse fill=\"none\" stroke=\"#000000\" cx=\"349.4936\" cy=\"-242.594\" rx=\"79.8062\" ry=\"79.8063\"/>\n<text text-anchor=\"middle\" x=\"349.4936\" y=\"-246.394\" font-family=\"Times,serif\" font-size=\"14.00\" fill=\"#000000\">Slope Units</text>\n<text text-anchor=\"middle\" x=\"349.4936\" y=\"-231.394\" font-family=\"Times,serif\" font-size=\"14.00\" fill=\"#000000\"> Catchment areas</text>\n</g>\n<!-- 1&#45;&gt;4 -->\n<g id=\"edge2\" class=\"edge\">\n<title>1&#45;&gt;4</title>\n<path fill=\"none\" stroke=\"#000000\" d=\"M102.6307,-278.0776C144.5709,-272.0492 208.1112,-262.916 260.2239,-255.4255\"/>\n<polygon fill=\"#000000\" stroke=\"#000000\" points=\"260.7482,-258.8862 270.1484,-253.9989 259.7522,-251.9574 260.7482,-258.8862\"/>\n<text text-anchor=\"middle\" x=\"192.0905\" y=\"-276.394\" font-family=\"Times,serif\" font-size=\"14.00\" fill=\"#000000\">Ashfall (cm)</text>\n</g>\n<!-- 8 -->\n<g id=\"node7\" class=\"node\">\n<title>8</title>\n<ellipse fill=\"none\" stroke=\"#000000\" cx=\"879.1285\" cy=\"-329.594\" rx=\"69.5877\" ry=\"69.5877\"/>\n<text text-anchor=\"middle\" x=\"879.1285\" y=\"-325.894\" font-family=\"Times,serif\" font-size=\"14.00\" fill=\"#000000\">Infrastructure(s)</text>\n</g>\n<!-- 1&#45;&gt;8 -->\n<g id=\"edge1\" class=\"edge\">\n<title>1&#45;&gt;8</title>\n<path fill=\"none\" stroke=\"#000000\" d=\"M101.1476,-297.2429C143.7526,-308.8295 210.4879,-325.1299 269.5905,-331.594 458.5013,-352.2553 682.318,-342.9453 799.1093,-335.5457\"/>\n<polygon fill=\"#000000\" stroke=\"#000000\" points=\"799.634,-339.0192 809.3876,-334.8819 799.1827,-332.0338 799.634,-339.0192\"/>\n<text text-anchor=\"middle\" x=\"483.3967\" y=\"-347.394\" font-family=\"Times,serif\" font-size=\"14.00\" fill=\"#000000\">Ashfall (cm)</text>\n</g>\n<!-- 2 -->\n<g id=\"node2\" class=\"node\">\n<title>2</title>\n<ellipse fill=\"none\" stroke=\"#000000\" cx=\"57.2953\" cy=\"-174.594\" rx=\"40.1121\" ry=\"40.1121\"/>\n<ellipse fill=\"none\" stroke=\"#000000\" cx=\"57.2953\" cy=\"-174.594\" rx=\"44.0938\" ry=\"44.0938\"/>\n<text text-anchor=\"middle\" x=\"57.2953\" y=\"-170.894\" font-family=\"Times,serif\" font-size=\"14.00\" fill=\"#000000\">Rainfall</text>\n</g>\n<!-- 2&#45;&gt;4 -->\n<g id=\"edge3\" class=\"edge\">\n<title>2&#45;&gt;4</title>\n<path fill=\"none\" stroke=\"#000000\" d=\"M100.7248,-184.7009C143.0049,-194.5402 208.4813,-209.7778 261.6489,-222.1509\"/>\n<polygon fill=\"#000000\" stroke=\"#000000\" points=\"260.8918,-225.5682 271.4249,-224.426 262.4785,-218.7504 260.8918,-225.5682\"/>\n<text text-anchor=\"middle\" x=\"192.0905\" y=\"-222.394\" font-family=\"Times,serif\" font-size=\"14.00\" fill=\"#000000\">Precipitation (mm/h)</text>\n</g>\n<!-- 5 -->\n<g id=\"node5\" class=\"node\">\n<title>5</title>\n<ellipse fill=\"none\" stroke=\"#000000\" cx=\"604.9907\" cy=\"-67.594\" rx=\"67.6881\" ry=\"67.6881\"/>\n<text text-anchor=\"middle\" x=\"604.9907\" y=\"-63.894\" font-family=\"Times,serif\" font-size=\"14.00\" fill=\"#000000\">River segments</text>\n</g>\n<!-- 2&#45;&gt;5 -->\n<g id=\"edge4\" class=\"edge\">\n<title>2&#45;&gt;5</title>\n<path fill=\"none\" stroke=\"#000000\" d=\"M101.1897,-166.0186C194.1771,-147.8522 412.0022,-105.297 528.4278,-82.5516\"/>\n<polygon fill=\"#000000\" stroke=\"#000000\" points=\"529.2004,-85.967 538.3437,-80.6144 527.8581,-79.0968 529.2004,-85.967\"/>\n<text text-anchor=\"middle\" x=\"349.4936\" y=\"-136.394\" font-family=\"Times,serif\" font-size=\"14.00\" fill=\"#000000\">Intensity (mm/h)</text>\n</g>\n<!-- 3 -->\n<g id=\"node3\" class=\"node\">\n<title>3</title>\n<ellipse fill=\"none\" stroke=\"#000000\" cx=\"57.2953\" cy=\"-413.594\" rx=\"53.1055\" ry=\"53.1055\"/>\n<ellipse fill=\"none\" stroke=\"#000000\" cx=\"57.2953\" cy=\"-413.594\" rx=\"57.0913\" ry=\"57.0913\"/>\n<text text-anchor=\"middle\" x=\"57.2953\" y=\"-409.894\" font-family=\"Times,serif\" font-size=\"14.00\" fill=\"#000000\">Earthquake</text>\n</g>\n<!-- 3&#45;&gt;4 -->\n<g id=\"edge5\" class=\"edge\">\n<title>3&#45;&gt;4</title>\n<path fill=\"none\" stroke=\"#000000\" d=\"M106.8627,-384.5862C151.9609,-358.1939 219.2711,-318.8027 271.5634,-288.2002\"/>\n<polygon fill=\"#000000\" stroke=\"#000000\" points=\"273.618,-291.0532 280.4809,-282.9815 270.0824,-285.0117 273.618,-291.0532\"/>\n<text text-anchor=\"middle\" x=\"192.0905\" y=\"-371.394\" font-family=\"Times,serif\" font-size=\"14.00\" fill=\"#000000\">Intensity (g)</text>\n</g>\n<!-- 3&#45;&gt;8 -->\n<g id=\"edge6\" class=\"edge\">\n<title>3&#45;&gt;8</title>\n<path fill=\"none\" stroke=\"#000000\" d=\"M114.8143,-411.9041C239.1106,-407.5607 541.7241,-393.2557 791.5847,-351.594 794.8308,-351.0527 798.1335,-350.4522 801.4615,-349.8059\"/>\n<polygon fill=\"#000000\" stroke=\"#000000\" points=\"802.4013,-353.1859 811.4908,-347.7425 800.9906,-346.3295 802.4013,-353.1859\"/>\n<text text-anchor=\"middle\" x=\"483.3967\" y=\"-395.394\" font-family=\"Times,serif\" font-size=\"14.00\" fill=\"#000000\">Intensity (g)</text>\n</g>\n<!-- 4&#45;&gt;5 -->\n<g id=\"edge8\" class=\"edge\">\n<title>4&#45;&gt;5</title>\n<path fill=\"none\" stroke=\"#000000\" d=\"M415.6227,-197.2996C454.1117,-170.9369 502.4138,-137.8529 540.6014,-111.6968\"/>\n<polygon fill=\"#000000\" stroke=\"#000000\" points=\"542.8112,-114.4255 549.0836,-105.8869 538.8555,-108.6503 542.8112,-114.4255\"/>\n<text text-anchor=\"middle\" x=\"483.3967\" y=\"-189.394\" font-family=\"Times,serif\" font-size=\"14.00\" fill=\"#000000\">Sediment</text>\n<text text-anchor=\"middle\" x=\"483.3967\" y=\"-174.394\" font-family=\"Times,serif\" font-size=\"14.00\" fill=\"#000000\">runout (m3)</text>\n</g>\n<!-- 7 -->\n<g id=\"node6\" class=\"node\">\n<title>7</title>\n<ellipse fill=\"none\" stroke=\"#000000\" cx=\"879.1285\" cy=\"-135.594\" rx=\"38.1938\" ry=\"38.1938\"/>\n<text text-anchor=\"middle\" x=\"879.1285\" y=\"-131.894\" font-family=\"Times,serif\" font-size=\"14.00\" fill=\"#000000\">Dam(s)</text>\n</g>\n<!-- 4&#45;&gt;7 -->\n<g id=\"edge7\" class=\"edge\">\n<title>4&#45;&gt;7</title>\n<path fill=\"none\" stroke=\"#000000\" d=\"M429.4571,-241.6601C547.8671,-239.8177 759.3877,-234.595 791.5847,-220.594 814.3276,-210.7041 834.5775,-192.0837 849.8584,-174.786\"/>\n<polygon fill=\"#000000\" stroke=\"#000000\" points=\"852.6987,-176.8491 856.5207,-166.9677 847.3708,-172.3089 852.6987,-176.8491\"/>\n<text text-anchor=\"middle\" x=\"604.9907\" y=\"-257.394\" font-family=\"Times,serif\" font-size=\"14.00\" fill=\"#000000\">Volume</text>\n<text text-anchor=\"middle\" x=\"604.9907\" y=\"-242.394\" font-family=\"Times,serif\" font-size=\"14.00\" fill=\"#000000\">debris (m3)</text>\n</g>\n<!-- 4&#45;&gt;8 -->\n<g id=\"edge13\" class=\"edge\">\n<title>4&#45;&gt;8</title>\n<path fill=\"none\" stroke=\"#000000\" d=\"M428.4992,-255.5718C528.5867,-272.0126 700.0577,-300.1791 800.1381,-316.6187\"/>\n<polygon fill=\"#000000\" stroke=\"#000000\" points=\"799.7559,-320.1028 810.191,-318.27 800.8906,-313.1953 799.7559,-320.1028\"/>\n<text text-anchor=\"middle\" x=\"604.9907\" y=\"-313.394\" font-family=\"Times,serif\" font-size=\"14.00\" fill=\"#000000\">Volume</text>\n<text text-anchor=\"middle\" x=\"604.9907\" y=\"-298.394\" font-family=\"Times,serif\" font-size=\"14.00\" fill=\"#000000\">debris (m3)</text>\n</g>\n<!-- 5&#45;&gt;5 -->\n<g id=\"edge10\" class=\"edge\">\n<title>5&#45;&gt;5</title>\n<path fill=\"none\" stroke=\"#000000\" d=\"M583.4918,-131.7981C585.9884,-144.3059 593.1547,-153.188 604.9907,-153.188 613.4978,-153.188 619.5925,-148.5995 623.2749,-141.3742\"/>\n<polygon fill=\"#000000\" stroke=\"#000000\" points=\"626.6251,-142.3921 626.4895,-131.7981 619.989,-140.1644 626.6251,-142.3921\"/>\n<text text-anchor=\"middle\" x=\"604.9907\" y=\"-186.988\" font-family=\"Times,serif\" font-size=\"14.00\" fill=\"#000000\">Sediment</text>\n<text text-anchor=\"middle\" x=\"604.9907\" y=\"-171.988\" font-family=\"Times,serif\" font-size=\"14.00\" fill=\"#000000\">load / transfer (?) </text>\n<text text-anchor=\"middle\" x=\"604.9907\" y=\"-156.988\" font-family=\"Times,serif\" font-size=\"14.00\" fill=\"#000000\">Flow (m3/s)</text>\n</g>\n<!-- 5&#45;&gt;7 -->\n<g id=\"edge11\" class=\"edge\">\n<title>5&#45;&gt;7</title>\n<path fill=\"none\" stroke=\"#000000\" d=\"M671.5813,-55.4102C708.0319,-51.4591 753.414,-51.061 791.5847,-64.594 811.8456,-71.7773 830.838,-85.8692 845.9199,-99.618\"/>\n<polygon fill=\"#000000\" stroke=\"#000000\" points=\"843.7694,-102.402 853.4363,-106.7381 848.5833,-97.32 843.7694,-102.402\"/>\n<text text-anchor=\"middle\" x=\"741.0847\" y=\"-98.394\" font-family=\"Times,serif\" font-size=\"14.00\" fill=\"#000000\">Sediment</text>\n<text text-anchor=\"middle\" x=\"741.0847\" y=\"-83.394\" font-family=\"Times,serif\" font-size=\"14.00\" fill=\"#000000\">load / transfer (?) </text>\n<text text-anchor=\"middle\" x=\"741.0847\" y=\"-68.394\" font-family=\"Times,serif\" font-size=\"14.00\" fill=\"#000000\">Flow (m3/s)</text>\n</g>\n<!-- 5&#45;&gt;8 -->\n<g id=\"edge12\" class=\"edge\">\n<title>5&#45;&gt;8</title>\n<path fill=\"none\" stroke=\"#000000\" d=\"M653.2664,-115.2913C665.4037,-127.1947 678.4342,-139.8986 690.5847,-151.594 733.9127,-193.2995 783.365,-239.9513 820.7502,-275.0294\"/>\n<polygon fill=\"#000000\" stroke=\"#000000\" points=\"818.3725,-277.5979 828.0609,-281.8858 823.1611,-272.4921 818.3725,-277.5979\"/>\n<text text-anchor=\"middle\" x=\"741.0847\" y=\"-247.394\" font-family=\"Times,serif\" font-size=\"14.00\" fill=\"#000000\">Inundation (mm)</text>\n</g>\n<!-- 7&#45;&gt;5 -->\n<g id=\"edge9\" class=\"edge\">\n<title>7&#45;&gt;5</title>\n<path fill=\"none\" stroke=\"#000000\" d=\"M840.6926,-135.3055C801.9601,-134.0499 740.8853,-129.4103 690.5847,-113.594 684.5648,-111.7011 678.4767,-109.3793 672.4687,-106.7943\"/>\n<polygon fill=\"#000000\" stroke=\"#000000\" points=\"673.6668,-103.4942 663.1151,-102.5393 670.7683,-109.866 673.6668,-103.4942\"/>\n<text text-anchor=\"middle\" x=\"741.0847\" y=\"-136.394\" font-family=\"Times,serif\" font-size=\"14.00\" fill=\"#000000\">Flow (m3/s)</text>\n</g>\n</g>\n</svg>\n"
          },
          "metadata": {},
          "execution_count": 17
        }
      ]
    },
    {
      "cell_type": "code",
      "metadata": {
        "id": "american-scientist"
      },
      "source": [
        ""
      ],
      "id": "american-scientist",
      "execution_count": null,
      "outputs": []
    }
  ]
}