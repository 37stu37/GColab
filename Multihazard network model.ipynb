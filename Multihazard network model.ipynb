{
  "nbformat": 4,
  "nbformat_minor": 5,
  "metadata": {
    "kernelspec": {
      "display_name": "Python 3",
      "language": "python",
      "name": "python3"
    },
    "language_info": {
      "name": "python",
      "version": "3.9.2",
      "mimetype": "text/x-python",
      "codemirror_mode": {
        "name": "ipython",
        "version": 3
      },
      "pygments_lexer": "ipython3",
      "nbconvert_exporter": "python",
      "file_extension": ".py"
    },
    "toc": {
      "toc_position": {},
      "skip_h1_title": false,
      "number_sections": true,
      "title_cell": "Table of Contents",
      "toc_window_display": false,
      "base_numbering": 1,
      "toc_section_display": true,
      "title_sidebar": "Contents",
      "toc_cell": false,
      "nav_menu": {},
      "sideBar": true
    },
    "nteract": {
      "version": "0.28.0"
    },
    "colab": {
      "name": "Multihazard network model.ipynb",
      "provenance": [],
      "collapsed_sections": [],
      "include_colab_link": true
    }
  },
  "cells": [
    {
      "cell_type": "markdown",
      "metadata": {
        "id": "view-in-github",
        "colab_type": "text"
      },
      "source": [
        "<a href=\"https://colab.research.google.com/github/37stu37/GColab/blob/main/Multihazard%20network%20model.ipynb\" target=\"_parent\"><img src=\"https://colab.research.google.com/assets/colab-badge.svg\" alt=\"Open In Colab\"/></a>"
      ]
    },
    {
      "cell_type": "markdown",
      "metadata": {
        "id": "DLtP8dfPlADm"
      },
      "source": [
        "# RNC multihazard network framing"
      ],
      "id": "DLtP8dfPlADm"
    },
    {
      "cell_type": "markdown",
      "metadata": {
        "id": "HN_3e579k0pY"
      },
      "source": [
        "## Visualisation of graph requirements"
      ],
      "id": "HN_3e579k0pY"
    },
    {
      "cell_type": "code",
      "metadata": {
        "colab": {
          "base_uri": "https://localhost:8080/"
        },
        "id": "Wgrkz2o5kIUN",
        "outputId": "faa7436c-6de6-4da8-f4eb-0c2ce1ac7a26"
      },
      "source": [
        "!pip install graphviz"
      ],
      "id": "Wgrkz2o5kIUN",
      "execution_count": 1,
      "outputs": [
        {
          "output_type": "stream",
          "text": [
            "Requirement already satisfied: graphviz in /usr/local/lib/python3.7/dist-packages (0.10.1)\n"
          ],
          "name": "stdout"
        }
      ]
    },
    {
      "cell_type": "code",
      "metadata": {
        "id": "vertical-plant"
      },
      "source": [
        "import logging\n",
        "\n",
        "logging.basicConfig(format='[%(levelname)s@%(name)s] %(message)s', level=logging.DEBUG)"
      ],
      "id": "vertical-plant",
      "execution_count": 2,
      "outputs": []
    },
    {
      "cell_type": "code",
      "metadata": {
        "id": "obvious-architect"
      },
      "source": [
        "from graphviz import Digraph\n",
        "\n",
        "dot = Digraph(comment='Multihazard network model')#, node_attr={'color': 'lightblue2', 'style': 'filled'})\n",
        "dot.attr(rankdir='LR', size='10')\n",
        "\n",
        "# node creation\n",
        "dot.attr('node', shape='doublecircle')\n",
        "dot.node('1', 'Volcano')\n",
        "dot.node('2', 'Rainfall')\n",
        "dot.node('3', 'Earthquake')\n",
        "\n",
        "dot.attr('node', shape='circle')\n",
        "dot.node('4', 'Slope\\nUnits')\n",
        "dot.node('5', 'River segments')\n",
        "# dot.node('6', 'Landslide(s)')\n",
        "dot.node('7', 'Landslide\\ndam(s)')\n",
        "dot.node('8', 'Infrastructure(s)')\n",
        "\n",
        "# edge creation\n",
        "dot.edge('1', '8', label='Ashfall (cm)')\n",
        "dot.edge('1', '4', label='Ashfall (cm)')\n",
        "dot.edge('2', '4', label='Precipitation (mm/h)')\n",
        "dot.edge('2', '5', label='Intensity (mm/h)')\n",
        "dot.edge('3', '4', label='Intensity (g)')\n",
        "# dot.edge('4', '6', label='Contributing area (m2)')\n",
        "dot.edge('4', '7', label='Volume\\ndebris (m3)')\n",
        "dot.edge('4', '5', label='Sediment\\nrunout (m3)')\n",
        "dot.edge('7', '5', label='Volume\\nlake (m3)')\n",
        "dot.edge('5', '5', label='Sediment\\nload / transfer (?)')\n",
        "dot.edge('5', '8', label='Inundation (mm)')\n",
        "dot.edge('4', '8', label='Volume\\ndebris (m3)')"
      ],
      "id": "obvious-architect",
      "execution_count": 4,
      "outputs": []
    },
    {
      "cell_type": "code",
      "metadata": {
        "colab": {
          "base_uri": "https://localhost:8080/",
          "height": 330
        },
        "id": "modern-geography",
        "outputId": "ea46c913-2e36-4709-e049-793c6cb4c0b1"
      },
      "source": [
        "dot"
      ],
      "id": "modern-geography",
      "execution_count": 5,
      "outputs": [
        {
          "output_type": "execute_result",
          "data": {
            "text/plain": [
              "<graphviz.dot.Digraph at 0x7f0be8580690>"
            ],
            "image/svg+xml": "<?xml version=\"1.0\" encoding=\"UTF-8\" standalone=\"no\"?>\n<!DOCTYPE svg PUBLIC \"-//W3C//DTD SVG 1.1//EN\"\n \"http://www.w3.org/Graphics/SVG/1.1/DTD/svg11.dtd\">\n<!-- Generated by graphviz version 2.40.1 (20161225.0304)\n -->\n<!-- Title: %3 Pages: 1 -->\n<svg width=\"720pt\" height=\"232pt\"\n viewBox=\"0.00 0.00 720.00 232.31\" xmlns=\"http://www.w3.org/2000/svg\" xmlns:xlink=\"http://www.w3.org/1999/xlink\">\n<g id=\"graph0\" class=\"graph\" transform=\"scale(.6564 .6564) rotate(0) translate(4 349.8927)\">\n<title>%3</title>\n<polygon fill=\"#ffffff\" stroke=\"transparent\" points=\"-4,4 -4,-349.8927 1092.8145,-349.8927 1092.8145,4 -4,4\"/>\n<!-- 1 -->\n<g id=\"node1\" class=\"node\">\n<title>1</title>\n<ellipse fill=\"none\" stroke=\"#000000\" cx=\"57.2953\" cy=\"-300.2964\" rx=\"41.6844\" ry=\"41.6844\"/>\n<ellipse fill=\"none\" stroke=\"#000000\" cx=\"57.2953\" cy=\"-300.2964\" rx=\"45.6928\" ry=\"45.6928\"/>\n<text text-anchor=\"middle\" x=\"57.2953\" y=\"-296.5964\" font-family=\"Times,serif\" font-size=\"14.00\" fill=\"#000000\">Volcano</text>\n</g>\n<!-- 4 -->\n<g id=\"node4\" class=\"node\">\n<title>4</title>\n<ellipse fill=\"none\" stroke=\"#000000\" cx=\"304.9459\" cy=\"-187.2964\" rx=\"35.2113\" ry=\"35.2113\"/>\n<text text-anchor=\"middle\" x=\"304.9459\" y=\"-191.0964\" font-family=\"Times,serif\" font-size=\"14.00\" fill=\"#000000\">Slope</text>\n<text text-anchor=\"middle\" x=\"304.9459\" y=\"-176.0964\" font-family=\"Times,serif\" font-size=\"14.00\" fill=\"#000000\">Units</text>\n</g>\n<!-- 1&#45;&gt;4 -->\n<g id=\"edge2\" class=\"edge\">\n<title>1&#45;&gt;4</title>\n<path fill=\"none\" stroke=\"#000000\" d=\"M99.0258,-281.2553C144.7124,-260.409 217.5359,-227.1806 263.2205,-206.3352\"/>\n<polygon fill=\"#000000\" stroke=\"#000000\" points=\"264.8928,-209.4193 272.5376,-202.0839 261.987,-203.051 264.8928,-209.4193\"/>\n<text text-anchor=\"middle\" x=\"192.0905\" y=\"-267.0964\" font-family=\"Times,serif\" font-size=\"14.00\" fill=\"#000000\">Ashfall (cm)</text>\n</g>\n<!-- 8 -->\n<g id=\"node7\" class=\"node\">\n<title>8</title>\n<ellipse fill=\"none\" stroke=\"#000000\" cx=\"1019.2706\" cy=\"-254.2964\" rx=\"69.5877\" ry=\"69.5877\"/>\n<text text-anchor=\"middle\" x=\"1019.2706\" y=\"-250.5964\" font-family=\"Times,serif\" font-size=\"14.00\" fill=\"#000000\">Infrastructure(s)</text>\n</g>\n<!-- 1&#45;&gt;8 -->\n<g id=\"edge1\" class=\"edge\">\n<title>1&#45;&gt;8</title>\n<path fill=\"none\" stroke=\"#000000\" d=\"M102.9394,-300.2964C152.6297,-300.2964 234.4342,-300.2964 304.9459,-300.2964 304.9459,-300.2964 304.9459,-300.2964 747.1328,-300.2964 813.5555,-300.2964 887.838,-286.8086 941.9923,-274.44\"/>\n<polygon fill=\"#000000\" stroke=\"#000000\" points=\"942.9147,-277.819 951.8634,-272.1471 941.3308,-271.0006 942.9147,-277.819\"/>\n<text text-anchor=\"middle\" x=\"524.92\" y=\"-304.0964\" font-family=\"Times,serif\" font-size=\"14.00\" fill=\"#000000\">Ashfall (cm)</text>\n</g>\n<!-- 2 -->\n<g id=\"node2\" class=\"node\">\n<title>2</title>\n<ellipse fill=\"none\" stroke=\"#000000\" cx=\"57.2953\" cy=\"-44.2964\" rx=\"40.1121\" ry=\"40.1121\"/>\n<ellipse fill=\"none\" stroke=\"#000000\" cx=\"57.2953\" cy=\"-44.2964\" rx=\"44.0938\" ry=\"44.0938\"/>\n<text text-anchor=\"middle\" x=\"57.2953\" y=\"-40.5964\" font-family=\"Times,serif\" font-size=\"14.00\" fill=\"#000000\">Rainfall</text>\n</g>\n<!-- 2&#45;&gt;4 -->\n<g id=\"edge3\" class=\"edge\">\n<title>2&#45;&gt;4</title>\n<path fill=\"none\" stroke=\"#000000\" d=\"M95.719,-66.4833C141.8265,-93.107 218.7358,-137.5165 265.3557,-164.436\"/>\n<polygon fill=\"#000000\" stroke=\"#000000\" points=\"263.8476,-167.6067 274.2578,-169.5763 267.348,-161.5448 263.8476,-167.6067\"/>\n<text text-anchor=\"middle\" x=\"192.0905\" y=\"-161.0964\" font-family=\"Times,serif\" font-size=\"14.00\" fill=\"#000000\">Precipitation (mm/h)</text>\n</g>\n<!-- 5 -->\n<g id=\"node5\" class=\"node\">\n<title>5</title>\n<ellipse fill=\"none\" stroke=\"#000000\" cx=\"747.1328\" cy=\"-109.2964\" rx=\"67.6881\" ry=\"67.6881\"/>\n<text text-anchor=\"middle\" x=\"747.1328\" y=\"-105.5964\" font-family=\"Times,serif\" font-size=\"14.00\" fill=\"#000000\">River segments</text>\n</g>\n<!-- 2&#45;&gt;5 -->\n<g id=\"edge4\" class=\"edge\">\n<title>2&#45;&gt;5</title>\n<path fill=\"none\" stroke=\"#000000\" d=\"M101.5218,-39.515C191.7223,-30.8643 403.0588,-16.2325 576.5388,-47.2964 610.1266,-53.3108 645.8213,-65.3295 675.8315,-77.1972\"/>\n<polygon fill=\"#000000\" stroke=\"#000000\" points=\"674.7819,-80.5477 685.3654,-81.0373 677.3972,-74.0546 674.7819,-80.5477\"/>\n<text text-anchor=\"middle\" x=\"406.8012\" y=\"-37.0964\" font-family=\"Times,serif\" font-size=\"14.00\" fill=\"#000000\">Intensity (mm/h)</text>\n</g>\n<!-- 3 -->\n<g id=\"node3\" class=\"node\">\n<title>3</title>\n<ellipse fill=\"none\" stroke=\"#000000\" cx=\"57.2953\" cy=\"-179.2964\" rx=\"53.1055\" ry=\"53.1055\"/>\n<ellipse fill=\"none\" stroke=\"#000000\" cx=\"57.2953\" cy=\"-179.2964\" rx=\"57.0913\" ry=\"57.0913\"/>\n<text text-anchor=\"middle\" x=\"57.2953\" y=\"-175.5964\" font-family=\"Times,serif\" font-size=\"14.00\" fill=\"#000000\">Earthquake</text>\n</g>\n<!-- 3&#45;&gt;4 -->\n<g id=\"edge5\" class=\"edge\">\n<title>3&#45;&gt;4</title>\n<path fill=\"none\" stroke=\"#000000\" d=\"M114.7338,-181.1519C158.6366,-182.5701 218.3472,-184.499 259.0823,-185.8149\"/>\n<polygon fill=\"#000000\" stroke=\"#000000\" points=\"259.158,-189.319 269.2658,-186.1438 259.3841,-182.3227 259.158,-189.319\"/>\n<text text-anchor=\"middle\" x=\"192.0905\" y=\"-189.0964\" font-family=\"Times,serif\" font-size=\"14.00\" fill=\"#000000\">Intensity (g)</text>\n</g>\n<!-- 4&#45;&gt;5 -->\n<g id=\"edge7\" class=\"edge\">\n<title>4&#45;&gt;5</title>\n<path fill=\"none\" stroke=\"#000000\" d=\"M340.5274,-186.8502C371.0177,-186.2915 416.0903,-185.0469 455.3012,-182.2964 509.3606,-178.5044 523.4466,-180.16 576.5388,-169.2964 615.2425,-161.377 624.2616,-156.3771 661.5388,-143.2964 665.8128,-141.7967 670.1891,-140.2125 674.5925,-138.5809\"/>\n<polygon fill=\"#000000\" stroke=\"#000000\" points=\"676.1204,-141.7457 684.2469,-134.9479 673.6549,-135.1942 676.1204,-141.7457\"/>\n<text text-anchor=\"middle\" x=\"524.92\" y=\"-199.0964\" font-family=\"Times,serif\" font-size=\"14.00\" fill=\"#000000\">Sediment</text>\n<text text-anchor=\"middle\" x=\"524.92\" y=\"-184.0964\" font-family=\"Times,serif\" font-size=\"14.00\" fill=\"#000000\">runout (m3)</text>\n</g>\n<!-- 7 -->\n<g id=\"node6\" class=\"node\">\n<title>7</title>\n<ellipse fill=\"none\" stroke=\"#000000\" cx=\"524.92\" cy=\"-108.2964\" rx=\"51.7379\" ry=\"51.7379\"/>\n<text text-anchor=\"middle\" x=\"524.92\" y=\"-112.0964\" font-family=\"Times,serif\" font-size=\"14.00\" fill=\"#000000\">Landslide</text>\n<text text-anchor=\"middle\" x=\"524.92\" y=\"-97.0964\" font-family=\"Times,serif\" font-size=\"14.00\" fill=\"#000000\">dam(s)</text>\n</g>\n<!-- 4&#45;&gt;7 -->\n<g id=\"edge6\" class=\"edge\">\n<title>4&#45;&gt;7</title>\n<path fill=\"none\" stroke=\"#000000\" d=\"M333.6065,-166.0777C341.342,-161.0359 349.9031,-156.0405 358.3012,-152.2964 391.8352,-137.3462 431.5071,-126.6184 463.7263,-119.5002\"/>\n<polygon fill=\"#000000\" stroke=\"#000000\" points=\"464.865,-122.8356 473.9079,-117.3152 463.3961,-115.9914 464.865,-122.8356\"/>\n<text text-anchor=\"middle\" x=\"406.8012\" y=\"-171.0964\" font-family=\"Times,serif\" font-size=\"14.00\" fill=\"#000000\">Volume</text>\n<text text-anchor=\"middle\" x=\"406.8012\" y=\"-156.0964\" font-family=\"Times,serif\" font-size=\"14.00\" fill=\"#000000\">debris (m3)</text>\n</g>\n<!-- 4&#45;&gt;8 -->\n<g id=\"edge11\" class=\"edge\">\n<title>4&#45;&gt;8</title>\n<path fill=\"none\" stroke=\"#000000\" d=\"M339.6118,-194.7843C345.8215,-196.0282 352.243,-197.2516 358.3012,-198.2964 409.1539,-207.0665 422.0534,-208.2491 473.3012,-214.2964 564.7578,-225.0884 587.7258,-227.1447 679.5388,-234.2964 768.3443,-241.2139 870.3768,-246.9201 939.2583,-250.4427\"/>\n<polygon fill=\"#000000\" stroke=\"#000000\" points=\"939.4333,-253.956 949.598,-250.9677 939.7884,-246.965 939.4333,-253.956\"/>\n<text text-anchor=\"middle\" x=\"628.0388\" y=\"-251.0964\" font-family=\"Times,serif\" font-size=\"14.00\" fill=\"#000000\">Volume</text>\n<text text-anchor=\"middle\" x=\"628.0388\" y=\"-236.0964\" font-family=\"Times,serif\" font-size=\"14.00\" fill=\"#000000\">debris (m3)</text>\n</g>\n<!-- 5&#45;&gt;5 -->\n<g id=\"edge9\" class=\"edge\">\n<title>5&#45;&gt;5</title>\n<path fill=\"none\" stroke=\"#000000\" d=\"M725.9923,-173.5006C728.4473,-186.0083 735.4941,-194.8904 747.1328,-194.8904 755.4981,-194.8904 761.4913,-190.3019 765.1123,-183.0767\"/>\n<polygon fill=\"#000000\" stroke=\"#000000\" points=\"768.4623,-184.0937 768.2734,-173.5006 761.815,-181.8994 768.4623,-184.0937\"/>\n<text text-anchor=\"middle\" x=\"747.1328\" y=\"-213.6904\" font-family=\"Times,serif\" font-size=\"14.00\" fill=\"#000000\">Sediment</text>\n<text text-anchor=\"middle\" x=\"747.1328\" y=\"-198.6904\" font-family=\"Times,serif\" font-size=\"14.00\" fill=\"#000000\">load / transfer (?)</text>\n</g>\n<!-- 5&#45;&gt;8 -->\n<g id=\"edge10\" class=\"edge\">\n<title>5&#45;&gt;8</title>\n<path fill=\"none\" stroke=\"#000000\" d=\"M806.8546,-141.1173C848.7184,-163.4231 904.838,-193.3246 948.8804,-216.7912\"/>\n<polygon fill=\"#000000\" stroke=\"#000000\" points=\"947.3313,-219.9316 957.8026,-221.5451 950.623,-213.7538 947.3313,-219.9316\"/>\n<text text-anchor=\"middle\" x=\"882.2268\" y=\"-211.0964\" font-family=\"Times,serif\" font-size=\"14.00\" fill=\"#000000\">Inundation (mm)</text>\n</g>\n<!-- 7&#45;&gt;5 -->\n<g id=\"edge8\" class=\"edge\">\n<title>7&#45;&gt;5</title>\n<path fill=\"none\" stroke=\"#000000\" d=\"M576.7386,-108.5296C604.1613,-108.653 638.3984,-108.8071 668.9752,-108.9447\"/>\n<polygon fill=\"#000000\" stroke=\"#000000\" points=\"669.1735,-112.4455 679.1892,-108.9907 669.2051,-105.4456 669.1735,-112.4455\"/>\n<text text-anchor=\"middle\" x=\"628.0388\" y=\"-128.0964\" font-family=\"Times,serif\" font-size=\"14.00\" fill=\"#000000\">Volume</text>\n<text text-anchor=\"middle\" x=\"628.0388\" y=\"-113.0964\" font-family=\"Times,serif\" font-size=\"14.00\" fill=\"#000000\">lake (m3)</text>\n</g>\n</g>\n</svg>\n"
          },
          "metadata": {},
          "execution_count": 5
        }
      ]
    },
    {
      "cell_type": "code",
      "metadata": {
        "id": "american-scientist"
      },
      "source": [
        ""
      ],
      "id": "american-scientist",
      "execution_count": null,
      "outputs": []
    }
  ]
}