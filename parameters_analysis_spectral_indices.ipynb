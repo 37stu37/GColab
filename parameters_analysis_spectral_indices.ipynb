{
  "nbformat": 4,
  "nbformat_minor": 0,
  "metadata": {
    "colab": {
      "name": "parameters_analysis_spectral_indices.ipynb",
      "provenance": [],
      "collapsed_sections": [
        "ohgKy62r2I_-",
        "SlmD5u1o40rg"
      ]
    },
    "kernelspec": {
      "name": "python3",
      "display_name": "Python 3"
    },
    "metadata": {
      "interpreter": {
        "hash": "dcc58b673b824357cef3d26024129bd618cb83948c5d0bd5de3c2263c29dd1f3"
      }
    },
    "language_info": {
      "name": "python"
    },
    "accelerator": "GPU"
  },
  "cells": [
    {
      "cell_type": "markdown",
      "metadata": {
        "id": "UW-tLs6exm7a"
      },
      "source": [
        "# _**Use yellowbricks library to get a vizual comparison of the feature weights in the learning process of landslide prediction**_"
      ]
    },
    {
      "cell_type": "markdown",
      "metadata": {
        "id": "mCW43-ra2fS4"
      },
      "source": [
        "## Install and data loading"
      ]
    },
    {
      "cell_type": "code",
      "metadata": {
        "id": "TmglsJrHJMb7"
      },
      "source": [
        "%%capture\n",
        "!pip install -U yellowbrick"
      ],
      "execution_count": 1,
      "outputs": []
    },
    {
      "cell_type": "code",
      "metadata": {
        "colab": {
          "resources": {
            "http://localhost:8080/nbextensions/google.colab/files.js": {
              "data": "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",
              "ok": true,
              "headers": [
                [
                  "content-type",
                  "application/javascript"
                ]
              ],
              "status": 200,
              "status_text": ""
            }
          },
          "base_uri": "https://localhost:8080/",
          "height": 72
        },
        "id": "lydc1jptCaLF",
        "outputId": "d19c6a2e-8ca9-4c50-c6e5-84d409d5bd57"
      },
      "source": [
        "from google.colab import files\n",
        "uploaded = files.upload()"
      ],
      "execution_count": 2,
      "outputs": [
        {
          "output_type": "display_data",
          "data": {
            "text/html": [
              "\n",
              "     <input type=\"file\" id=\"files-3f236905-eb88-4317-8000-a97a9503a9fe\" name=\"files[]\" multiple disabled\n",
              "        style=\"border:none\" />\n",
              "     <output id=\"result-3f236905-eb88-4317-8000-a97a9503a9fe\">\n",
              "      Upload widget is only available when the cell has been executed in the\n",
              "      current browser session. Please rerun this cell to enable.\n",
              "      </output>\n",
              "      <script src=\"/nbextensions/google.colab/files.js\"></script> "
            ],
            "text/plain": [
              "<IPython.core.display.HTML object>"
            ]
          },
          "metadata": {
            "tags": []
          }
        },
        {
          "output_type": "stream",
          "text": [
            "Saving Spectral_Indices.csv to Spectral_Indices (2).csv\n"
          ],
          "name": "stdout"
        }
      ]
    },
    {
      "cell_type": "code",
      "metadata": {
        "id": "PLNdMIJ4Qw1E"
      },
      "source": [
        "import pandas as pd"
      ],
      "execution_count": 3,
      "outputs": []
    },
    {
      "cell_type": "code",
      "metadata": {
        "id": "-0_xOPiDQwyg"
      },
      "source": [
        "# From Google Drive\n",
        "df = pd.read_csv(\"/content/Spectral_Indices.csv\")"
      ],
      "execution_count": 4,
      "outputs": []
    },
    {
      "cell_type": "code",
      "metadata": {
        "colab": {
          "base_uri": "https://localhost:8080/",
          "height": 317
        },
        "id": "FiNbn-1zTmVd",
        "outputId": "788d45ef-5757-4169-97fc-b582d596eda9"
      },
      "source": [
        "df.describe()"
      ],
      "execution_count": 5,
      "outputs": [
        {
          "output_type": "execute_result",
          "data": {
            "text/html": [
              "<div>\n",
              "<style scoped>\n",
              "    .dataframe tbody tr th:only-of-type {\n",
              "        vertical-align: middle;\n",
              "    }\n",
              "\n",
              "    .dataframe tbody tr th {\n",
              "        vertical-align: top;\n",
              "    }\n",
              "\n",
              "    .dataframe thead th {\n",
              "        text-align: right;\n",
              "    }\n",
              "</style>\n",
              "<table border=\"1\" class=\"dataframe\">\n",
              "  <thead>\n",
              "    <tr style=\"text-align: right;\">\n",
              "      <th></th>\n",
              "      <th>FID</th>\n",
              "      <th>pointid</th>\n",
              "      <th>B02_10m</th>\n",
              "      <th>B03_10m</th>\n",
              "      <th>B04_10m</th>\n",
              "      <th>B08_10m</th>\n",
              "      <th>B05_20m</th>\n",
              "      <th>B06_20m</th>\n",
              "      <th>B07_20m</th>\n",
              "      <th>B11_20m</th>\n",
              "      <th>B12_20m</th>\n",
              "      <th>SAVI</th>\n",
              "      <th>GNDVI</th>\n",
              "      <th>EVI2</th>\n",
              "      <th>EVI</th>\n",
              "      <th>REPO_20m</th>\n",
              "      <th>NDSI_20m</th>\n",
              "      <th>NDMI_20m</th>\n",
              "      <th>NDWI</th>\n",
              "      <th>BSI_20m</th>\n",
              "      <th>NDVI</th>\n",
              "    </tr>\n",
              "  </thead>\n",
              "  <tbody>\n",
              "    <tr>\n",
              "      <th>count</th>\n",
              "      <td>916384.000000</td>\n",
              "      <td>916384.000000</td>\n",
              "      <td>916384.000000</td>\n",
              "      <td>916384.000000</td>\n",
              "      <td>916384.000000</td>\n",
              "      <td>916384.000000</td>\n",
              "      <td>916384.000000</td>\n",
              "      <td>916384.000000</td>\n",
              "      <td>916384.000000</td>\n",
              "      <td>916384.000000</td>\n",
              "      <td>916384.000000</td>\n",
              "      <td>916384.000000</td>\n",
              "      <td>916384.000000</td>\n",
              "      <td>916384.000000</td>\n",
              "      <td>916384.000000</td>\n",
              "      <td>916384.000000</td>\n",
              "      <td>916384.000000</td>\n",
              "      <td>916384.000000</td>\n",
              "      <td>916384.000000</td>\n",
              "      <td>916384.000000</td>\n",
              "      <td>916384.000000</td>\n",
              "    </tr>\n",
              "    <tr>\n",
              "      <th>mean</th>\n",
              "      <td>229160.772589</td>\n",
              "      <td>229161.772589</td>\n",
              "      <td>453.487733</td>\n",
              "      <td>678.985076</td>\n",
              "      <td>667.792126</td>\n",
              "      <td>2507.220471</td>\n",
              "      <td>1022.002313</td>\n",
              "      <td>1995.008541</td>\n",
              "      <td>2338.376351</td>\n",
              "      <td>1905.353363</td>\n",
              "      <td>1226.963447</td>\n",
              "      <td>0.889496</td>\n",
              "      <td>0.598084</td>\n",
              "      <td>1.494627</td>\n",
              "      <td>1.712308</td>\n",
              "      <td>716.254267</td>\n",
              "      <td>-0.526970</td>\n",
              "      <td>0.168937</td>\n",
              "      <td>-0.598084</td>\n",
              "      <td>-0.127655</td>\n",
              "      <td>0.622998</td>\n",
              "    </tr>\n",
              "    <tr>\n",
              "      <th>std</th>\n",
              "      <td>132381.700573</td>\n",
              "      <td>132381.700573</td>\n",
              "      <td>411.668652</td>\n",
              "      <td>528.489253</td>\n",
              "      <td>668.674479</td>\n",
              "      <td>782.668636</td>\n",
              "      <td>619.103003</td>\n",
              "      <td>588.486828</td>\n",
              "      <td>658.193021</td>\n",
              "      <td>869.381382</td>\n",
              "      <td>891.823996</td>\n",
              "      <td>0.387934</td>\n",
              "      <td>0.212355</td>\n",
              "      <td>0.651827</td>\n",
              "      <td>27.738560</td>\n",
              "      <td>160.144392</td>\n",
              "      <td>0.124603</td>\n",
              "      <td>0.185018</td>\n",
              "      <td>0.212355</td>\n",
              "      <td>0.189670</td>\n",
              "      <td>0.271713</td>\n",
              "    </tr>\n",
              "    <tr>\n",
              "      <th>min</th>\n",
              "      <td>0.000000</td>\n",
              "      <td>1.000000</td>\n",
              "      <td>1.000000</td>\n",
              "      <td>1.000000</td>\n",
              "      <td>1.000000</td>\n",
              "      <td>71.000000</td>\n",
              "      <td>33.000000</td>\n",
              "      <td>103.000000</td>\n",
              "      <td>154.000000</td>\n",
              "      <td>138.000000</td>\n",
              "      <td>33.000000</td>\n",
              "      <td>-0.519659</td>\n",
              "      <td>-0.478613</td>\n",
              "      <td>-0.873197</td>\n",
              "      <td>-9999.000000</td>\n",
              "      <td>-9999.000000</td>\n",
              "      <td>-0.997755</td>\n",
              "      <td>-0.513353</td>\n",
              "      <td>-0.998732</td>\n",
              "      <td>-0.654063</td>\n",
              "      <td>-0.363963</td>\n",
              "    </tr>\n",
              "    <tr>\n",
              "      <th>25%</th>\n",
              "      <td>114547.750000</td>\n",
              "      <td>114548.750000</td>\n",
              "      <td>185.000000</td>\n",
              "      <td>330.000000</td>\n",
              "      <td>202.000000</td>\n",
              "      <td>2066.000000</td>\n",
              "      <td>595.000000</td>\n",
              "      <td>1673.000000</td>\n",
              "      <td>1976.000000</td>\n",
              "      <td>1279.000000</td>\n",
              "      <td>564.000000</td>\n",
              "      <td>0.558085</td>\n",
              "      <td>0.444023</td>\n",
              "      <td>0.937779</td>\n",
              "      <td>0.872335</td>\n",
              "      <td>715.828000</td>\n",
              "      <td>-0.608636</td>\n",
              "      <td>-0.001879</td>\n",
              "      <td>-0.764370</td>\n",
              "      <td>-0.298190</td>\n",
              "      <td>0.390867</td>\n",
              "    </tr>\n",
              "    <tr>\n",
              "      <th>50%</th>\n",
              "      <td>229095.500000</td>\n",
              "      <td>229096.500000</td>\n",
              "      <td>274.000000</td>\n",
              "      <td>465.000000</td>\n",
              "      <td>315.000000</td>\n",
              "      <td>2462.000000</td>\n",
              "      <td>791.000000</td>\n",
              "      <td>1920.000000</td>\n",
              "      <td>2281.000000</td>\n",
              "      <td>1611.000000</td>\n",
              "      <td>810.000000</td>\n",
              "      <td>1.123660</td>\n",
              "      <td>0.699961</td>\n",
              "      <td>1.888060</td>\n",
              "      <td>2.075520</td>\n",
              "      <td>719.358000</td>\n",
              "      <td>-0.551370</td>\n",
              "      <td>0.240228</td>\n",
              "      <td>-0.699961</td>\n",
              "      <td>-0.203335</td>\n",
              "      <td>0.787026</td>\n",
              "    </tr>\n",
              "    <tr>\n",
              "      <th>75%</th>\n",
              "      <td>343643.250000</td>\n",
              "      <td>343644.250000</td>\n",
              "      <td>604.000000</td>\n",
              "      <td>887.000000</td>\n",
              "      <td>988.000000</td>\n",
              "      <td>2866.000000</td>\n",
              "      <td>1322.000000</td>\n",
              "      <td>2227.000000</td>\n",
              "      <td>2611.000000</td>\n",
              "      <td>2403.000000</td>\n",
              "      <td>1723.000000</td>\n",
              "      <td>1.216340</td>\n",
              "      <td>0.764370</td>\n",
              "      <td>2.043830</td>\n",
              "      <td>2.491540</td>\n",
              "      <td>721.352000</td>\n",
              "      <td>-0.470045</td>\n",
              "      <td>0.331723</td>\n",
              "      <td>-0.444023</td>\n",
              "      <td>0.059353</td>\n",
              "      <td>0.851921</td>\n",
              "    </tr>\n",
              "    <tr>\n",
              "      <th>max</th>\n",
              "      <td>465925.000000</td>\n",
              "      <td>465926.000000</td>\n",
              "      <td>7652.000000</td>\n",
              "      <td>10840.000000</td>\n",
              "      <td>13304.000000</td>\n",
              "      <td>15496.000000</td>\n",
              "      <td>10824.000000</td>\n",
              "      <td>13089.000000</td>\n",
              "      <td>14123.000000</td>\n",
              "      <td>13330.000000</td>\n",
              "      <td>13251.000000</td>\n",
              "      <td>1.426710</td>\n",
              "      <td>0.998732</td>\n",
              "      <td>2.397330</td>\n",
              "      <td>3735.000000</td>\n",
              "      <td>11260.000000</td>\n",
              "      <td>0.556232</td>\n",
              "      <td>0.802066</td>\n",
              "      <td>0.478613</td>\n",
              "      <td>0.434762</td>\n",
              "      <td>0.999257</td>\n",
              "    </tr>\n",
              "  </tbody>\n",
              "</table>\n",
              "</div>"
            ],
            "text/plain": [
              "                 FID        pointid  ...        BSI_20m           NDVI\n",
              "count  916384.000000  916384.000000  ...  916384.000000  916384.000000\n",
              "mean   229160.772589  229161.772589  ...      -0.127655       0.622998\n",
              "std    132381.700573  132381.700573  ...       0.189670       0.271713\n",
              "min         0.000000       1.000000  ...      -0.654063      -0.363963\n",
              "25%    114547.750000  114548.750000  ...      -0.298190       0.390867\n",
              "50%    229095.500000  229096.500000  ...      -0.203335       0.787026\n",
              "75%    343643.250000  343644.250000  ...       0.059353       0.851921\n",
              "max    465925.000000  465926.000000  ...       0.434762       0.999257\n",
              "\n",
              "[8 rows x 21 columns]"
            ]
          },
          "metadata": {
            "tags": []
          },
          "execution_count": 5
        }
      ]
    },
    {
      "cell_type": "markdown",
      "metadata": {
        "id": "ohgKy62r2I_-"
      },
      "source": [
        "# Data analytics"
      ]
    },
    {
      "cell_type": "code",
      "metadata": {
        "id": "TyD3912pQwtv"
      },
      "source": [
        "from sklearn.model_selection import train_test_split\n",
        "from sklearn.preprocessing import MinMaxScaler, LabelBinarizer\n",
        "\n",
        "# Create train and test dataset\n",
        "target = \"Class\"\n",
        "y = df[target]\n",
        "X = df.drop([target, \"FID\"], axis=1)\n",
        "features = list(X.columns)\n",
        "\n",
        "# Normalized datatset and label encode\n",
        "X_norm = MinMaxScaler().fit_transform(X)\n",
        "y_encode = LabelBinarizer().fit_transform(y)\n",
        "\n",
        "# # Create the training and test data\n",
        "X_train, X_test, y_train, y_test = train_test_split(X_norm, y_encode, shuffle=True, test_size=0.25, random_state=42)\n",
        "n_features = X.shape[1]"
      ],
      "execution_count": 6,
      "outputs": []
    },
    {
      "cell_type": "code",
      "metadata": {
        "colab": {
          "base_uri": "https://localhost:8080/",
          "height": 282
        },
        "id": "ULUJeuoA5L9v",
        "outputId": "8f66b889-a762-40bf-a7cb-8dabb6261634"
      },
      "source": [
        "import matplotlib.pyplot as plt\n",
        "plt.scatter(y, y_encode)"
      ],
      "execution_count": 7,
      "outputs": [
        {
          "output_type": "execute_result",
          "data": {
            "text/plain": [
              "<matplotlib.collections.PathCollection at 0x7f326f8da4d0>"
            ]
          },
          "metadata": {
            "tags": []
          },
          "execution_count": 7
        },
        {
          "output_type": "display_data",
          "data": {
            "image/png": "[encoded data removed]",
            "text/plain": [
              "<Figure size 432x288 with 1 Axes>"
            ]
          },
          "metadata": {
            "tags": [],
            "needs_background": "light"
          }
        }
      ]
    },
    {
      "cell_type": "code",
      "metadata": {
        "colab": {
          "base_uri": "https://localhost:8080/"
        },
        "id": "dqGr4N4hjxJW",
        "outputId": "00306c67-1485-457f-d036-a573365fb1c6"
      },
      "source": [
        "print(\"X_train :{}, y_train:{}, X_test:{}, y_test:{} \\n for the features : {}\".format(X_train.shape, y_train.shape, X_test.shape, y_test.shape, features))"
      ],
      "execution_count": 8,
      "outputs": [
        {
          "output_type": "stream",
          "text": [
            "X_train :(687288, 20), y_train:(687288, 1), X_test:(229096, 20), y_test:(229096, 1) \n",
            " for the features : ['pointid', 'B02_10m', 'B03_10m', 'B04_10m', 'B08_10m', 'B05_20m', 'B06_20m', 'B07_20m', 'B11_20m', 'B12_20m', 'SAVI', 'GNDVI', 'EVI2', 'EVI', 'REPO_20m', 'NDSI_20m', 'NDMI_20m', 'NDWI', 'BSI_20m', 'NDVI']\n"
          ],
          "name": "stdout"
        }
      ]
    },
    {
      "cell_type": "code",
      "metadata": {
        "colab": {
          "base_uri": "https://localhost:8080/",
          "height": 615
        },
        "id": "wXpuv30rwunp",
        "outputId": "3ea754de-67ef-46f6-e4fe-b3e3e2e7a39e"
      },
      "source": [
        "from yellowbrick.features import *\n",
        "import matplotlib.pyplot as plt\n",
        "\n",
        "fig, axes = plt.subplots(ncols=3, figsize=(25,8))\n",
        "\n",
        "df[\"Class\"] = y_encode\n",
        "\n",
        "colormap = \"gist_ncar\"\n",
        "rank1d(df, ax=axes[0], show=False, colormap=colormap) # https://www.spss-tutorials.com/spss-shapiro-wilk-test-for-normality/\n",
        "rank2d(df, algorithm='pearson', ax=axes[1], show=False, colormap=colormap)\n",
        "rank2d(df, algorithm='covariance', ax=axes[2], show=False, colormap=\"Spectral\") # JOINT VARIABILITY - measure of how two random variables in a data set will change together;\n",
        "                                                           # A positive covariance means that the two variables at hand are positively related, and they move in the same direction. \n",
        "                                                           # A negative covariance means that the variables are inversely related, or that they move in opposite directions.\n",
        "\n",
        "plt.tight_layout()\n",
        "# plt.savefig('/content/drive/MyDrive/Workfolder/Work_tech/sajag_nepal/Sindhupalchok_pilot_study/GIS_data/susceptibility/ML_parameters_weighting/data/output/pngs/data_correlations.png', dpi=300)\n",
        "plt.show()"
      ],
      "execution_count": 9,
      "outputs": [
        {
          "output_type": "stream",
          "text": [
            "/usr/local/lib/python3.7/dist-packages/scipy/stats/morestats.py:1676: UserWarning: p-value may not be accurate for N > 5000.\n",
            "  warnings.warn(\"p-value may not be accurate for N > 5000.\")\n"
          ],
          "name": "stderr"
        },
        {
          "output_type": "display_data",
          "data": {
            "image/png": "[encoded data removed]",
            "text/plain": [
              "<Figure size 1800x576 with 5 Axes>"
            ]
          },
          "metadata": {
            "tags": []
          }
        }
      ]
    },
    {
      "cell_type": "code",
      "metadata": {
        "id": "z1JNXUWU-Tbt"
      },
      "source": [
        "fea = X_norm\n",
        "tar = y_encode\n",
        "classes = [0,1]\n",
        "names = X.columns\n",
        "\n",
        "radviz(fea, tar, classes=classes, features=names, colormap=\"bwr\", alpha=0.2, show=False) # https://cran.r-project.org/web/packages/Radviz/vignettes/single_cell_projections.html\n"
      ],
      "execution_count": null,
      "outputs": []
    },
    {
      "cell_type": "markdown",
      "metadata": {
        "id": "aaL7wVYv19Pz"
      },
      "source": [
        "# Learning"
      ]
    },
    {
      "cell_type": "code",
      "metadata": {
        "colab": {
          "background_save": true,
          "base_uri": "https://localhost:8080/"
        },
        "id": "73CkcTuW0AIG",
        "outputId": "f817fe90-a46c-41b3-9200-4bd7c00657d6"
      },
      "source": [
        "from sklearn.metrics import f1_score\n",
        "from sklearn.pipeline import Pipeline\n",
        "from sklearn.svm import LinearSVC, NuSVC, SVC\n",
        "from sklearn.neighbors import KNeighborsClassifier\n",
        "from sklearn.preprocessing import OneHotEncoder, LabelEncoder, MinMaxScaler\n",
        "from sklearn.linear_model import LogisticRegressionCV, LogisticRegression, SGDClassifier\n",
        "from sklearn.ensemble import BaggingClassifier, ExtraTreesClassifier, RandomForestClassifier\n",
        "from sklearn.naive_bayes import GaussianNB\n",
        "\n",
        "\n",
        "models = [ \n",
        "    LinearSVC(),\n",
        "    # SGDClassifier(max_iter=100, tol=1e-3), \n",
        "    # KNeighborsClassifier(),\n",
        "    LogisticRegression(solver='lbfgs', max_iter=2000), \n",
        "    # LogisticRegressionCV(cv=3, max_iter=2000),\n",
        "    # BaggingClassifier(), \n",
        "    # ExtraTreesClassifier(n_estimators=300),\n",
        "    # GaussianNB(),\n",
        "    RandomForestClassifier(n_estimators=300)\n",
        "]\n",
        "\n",
        "\n",
        "def score_model(X, y, estimator, **kwargs):\n",
        "    \"\"\"\n",
        "    Test various estimators.\n",
        "    \"\"\"\n",
        "    y = LabelEncoder().fit_transform(y) # useful???????\n",
        "\n",
        "    model = Pipeline([\n",
        "        ('one_hot_encoder', OneHotEncoder()),\n",
        "        ('estimator', estimator)\n",
        "    ])\n",
        "\n",
        "    # Instantiate the classification model and visualizer\n",
        "    model.fit(X, y, **kwargs)\n",
        "\n",
        "    expected  = y\n",
        "    predicted = model.predict(X)\n",
        "\n",
        "    # Compute and return F1 (harmonic mean of precision and recall)\n",
        "    print(\"{}: {}\".format(estimator.__class__.__name__, f1_score(expected, predicted)))\n",
        "\n",
        "for model in models:\n",
        "    score_model(X, y, model)\n"
      ],
      "execution_count": null,
      "outputs": [
        {
          "output_type": "stream",
          "text": [
            "LinearSVC: 0.7767878641945581\n",
            "LogisticRegression: 0.3749187784275504\n",
            "RandomForestClassifier: 1.0\n"
          ],
          "name": "stdout"
        }
      ]
    },
    {
      "cell_type": "code",
      "metadata": {
        "colab": {
          "base_uri": "https://localhost:8080/"
        },
        "id": "Gy2idunNzv5e",
        "outputId": "03526b7f-a094-41db-9eb0-9707506321fc"
      },
      "source": [
        "import numpy as np\n",
        "np.random.seed(0)\n",
        "\n",
        "import matplotlib.pyplot as plt\n",
        "\n",
        "from sklearn import datasets\n",
        "from sklearn.naive_bayes import GaussianNB\n",
        "from sklearn.linear_model import LogisticRegression\n",
        "from sklearn.ensemble import RandomForestClassifier\n",
        "from sklearn.svm import LinearSVC\n",
        "from sklearn.calibration import calibration_curve\n",
        "\n",
        "\n",
        "# Create classifiers\n",
        "lr = LogisticRegression(solver='lbfgs', max_iter=3000)\n",
        "svc = LinearSVC(C=1.0)\n",
        "rfc = RandomForestClassifier(n_estimators=500)\n",
        "\n",
        "\n",
        "# #############################################################################\n",
        "# Plot calibration plots\n",
        "\n",
        "plt.figure(figsize=(10, 10))\n",
        "ax1 = plt.subplot2grid((3, 1), (0, 0), rowspan=2)\n",
        "ax2 = plt.subplot2grid((3, 1), (2, 0))\n",
        "\n",
        "ax1.plot([0, 1], [0, 1], \"k:\", label=\"Perfectly calibrated\")\n",
        "for clf, name in [(lr, 'Logistic Regression'),\n",
        "                  (svc, 'Linear SVC'),\n",
        "                  (rfc, 'Random Forest')]:\n",
        "    clf.fit(X_train, y_train)\n",
        "    if hasattr(clf, \"predict_proba\"):\n",
        "        prob_pos = clf.predict_proba(X_test)[:, 1]\n",
        "    else:  # use decision function\n",
        "        prob_pos = clf.decision_function(X_test)\n",
        "        prob_pos = \\\n",
        "            (prob_pos - prob_pos.min()) / (prob_pos.max() - prob_pos.min())\n",
        "    fraction_of_positives, mean_predicted_value = \\\n",
        "        calibration_curve(y_test, prob_pos, n_bins=10)\n",
        "\n",
        "    ax1.plot(mean_predicted_value, fraction_of_positives, \"s-\",\n",
        "             label=\"%s\" % (name, ))\n",
        "\n",
        "    ax2.hist(prob_pos, range=(0, 1), bins=10, label=name,\n",
        "             histtype=\"step\", lw=2)\n",
        "\n",
        "ax1.set_ylabel(\"Fraction of positives\")\n",
        "ax1.set_ylim([-0.05, 1.05])\n",
        "ax1.legend(loc=\"lower right\")\n",
        "ax1.set_title('Calibration plots  (reliability curve)')\n",
        "\n",
        "ax2.set_xlabel(\"Mean predicted value\")\n",
        "ax2.set_ylabel(\"Count\")\n",
        "ax2.legend(loc=\"upper center\", ncol=2)\n",
        "\n",
        "plt.tight_layout()\n",
        "plt.show()"
      ],
      "execution_count": null,
      "outputs": [
        {
          "output_type": "stream",
          "text": [
            "/usr/local/lib/python3.7/dist-packages/sklearn/utils/validation.py:760: DataConversionWarning: A column-vector y was passed when a 1d array was expected. Please change the shape of y to (n_samples, ), for example using ravel().\n",
            "  y = column_or_1d(y, warn=True)\n",
            "/usr/local/lib/python3.7/dist-packages/sklearn/utils/validation.py:760: DataConversionWarning: A column-vector y was passed when a 1d array was expected. Please change the shape of y to (n_samples, ), for example using ravel().\n",
            "  y = column_or_1d(y, warn=True)\n",
            "/usr/local/lib/python3.7/dist-packages/ipykernel_launcher.py:31: DataConversionWarning: A column-vector y was passed when a 1d array was expected. Please change the shape of y to (n_samples,), for example using ravel().\n"
          ],
          "name": "stderr"
        }
      ]
    },
    {
      "cell_type": "code",
      "metadata": {
        "id": "4kVsRBRW4aQn"
      },
      "source": [
        "# test which features are the most important in the learning process\n",
        "from sklearn.inspection import permutation_importance\n",
        "\n",
        "model = RandomForestClassifier(n_estimators=500).fit(X_train, y_train)\n",
        "\n",
        "r = permutation_importance(model, X_test, y_test,\n",
        "                           n_repeats=10,\n",
        "                           random_state=42)\n",
        "\n",
        "for i in r.importances_mean.argsort()[::-1]:\n",
        "    if r.importances_mean[i] - 2 * r.importances_std[i] > 0:\n",
        "        print(\"{}: importances mean: {}; importance std: {}\".format(features.columns[i], \n",
        "                                     r.importances_mean[i], \n",
        "                                     r.importances_std[i]))\n",
        "        \n",
        "        # print(\"{} -- {} --{}\".format(features[i], \n",
        "        #                              r.importances_mean[i], \n",
        "        #                              r.importances_std[i]))"
      ],
      "execution_count": null,
      "outputs": []
    },
    {
      "cell_type": "code",
      "metadata": {
        "id": "iIp2D8yDIF-d"
      },
      "source": [
        "# Instaniate the classification model and visualizer\n",
        "import matplotlib.pyplot as plt\n",
        "from yellowbrick.classifier import PrecisionRecallCurve\n",
        "\n",
        "# !! model is inherited from previous cell\n",
        "\n",
        "# Create the visualizer, fit, score, and show it\n",
        "viz = PrecisionRecallCurve(model)\n",
        "viz.fit(X_train, y_train)\n",
        "viz.score(X_test.transpose(), y_test)\n",
        "viz.show()"
      ],
      "execution_count": null,
      "outputs": []
    },
    {
      "cell_type": "markdown",
      "metadata": {
        "id": "SlmD5u1o40rg"
      },
      "source": [
        "## Optimizers"
      ]
    },
    {
      "cell_type": "code",
      "metadata": {
        "id": "GfHW--Azj1uA"
      },
      "source": [
        "# # optimise ML\n",
        "# !pip install scikit-optimize"
      ],
      "execution_count": null,
      "outputs": []
    },
    {
      "cell_type": "code",
      "metadata": {
        "id": "TzH1oBwNkYvD"
      },
      "source": [
        "# # report scikit-optimize version number\n",
        "# import skopt\n",
        "# print('skopt %s' % skopt.__version__)"
      ],
      "execution_count": null,
      "outputs": []
    },
    {
      "cell_type": "code",
      "metadata": {
        "id": "g1A4p1CDkaHu"
      },
      "source": [
        "# from skopt import BayesSearchCV\n",
        "# from skopt.space import Real, Categorical, Integer\n",
        "# from skopt.plots import plot_objective, plot_histogram\n",
        "\n",
        "# # pipeline class is used as estimator to enable\n",
        "# # search over different model types\n",
        "# pipe = Pipeline([\n",
        "#     ('model', LinearSVC())\n",
        "# ])\n",
        "\n",
        "# # single categorical value of 'model' parameter is\n",
        "# # sets the model class\n",
        "# # We will get ConvergenceWarnings because the problem is not well-conditioned.\n",
        "# # But that's fine, this is just an example.\n",
        "# linsvc_search = {\n",
        "#     'model': [LinearSVC(max_iter=1000)],\n",
        "#     'model__C': (1e-6, 1e+6, 'log-uniform'),\n",
        "# }\n",
        "\n",
        "# # explicit dimension classes can be specified like this\n",
        "# svc_search = {\n",
        "#     'model': Categorical([SVC()]),\n",
        "#     'model__C': Real(1e-6, 1e+6, prior='log-uniform'),\n",
        "#     'model__gamma': Real(1e-6, 1e+1, prior='log-uniform'),\n",
        "#     'model__degree': Integer(1,8),\n",
        "#     'model__kernel': Categorical(['linear', 'poly', 'rbf']),\n",
        "# }\n",
        "\n",
        "# opt = BayesSearchCV(\n",
        "#     pipe,\n",
        "#     # (parameter space, # of evaluations)\n",
        "#     [(svc_search, 40), (linsvc_search, 16)],\n",
        "#     cv=3\n",
        "# )\n",
        "\n",
        "# opt.fit(X_train, y_train)\n",
        "\n",
        "# print(\"val. score: %s\" % opt.best_score_)\n",
        "# print(\"test score: %s\" % opt.score(X_test, y_test))\n",
        "# print(\"best params: %s\" % str(opt.best_params_))"
      ],
      "execution_count": null,
      "outputs": []
    }
  ]
}